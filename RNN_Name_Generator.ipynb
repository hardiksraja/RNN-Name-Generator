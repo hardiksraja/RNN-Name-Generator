{
  "nbformat": 4,
  "nbformat_minor": 0,
  "metadata": {
    "kernelspec": {
      "display_name": "Python 3",
      "language": "python",
      "name": "python3"
    },
    "language_info": {
      "codemirror_mode": {
        "name": "ipython",
        "version": 3
      },
      "file_extension": ".py",
      "mimetype": "text/x-python",
      "name": "python",
      "nbconvert_exporter": "python",
      "pygments_lexer": "ipython3",
      "version": "3.6.8"
    },
    "colab": {
      "name": "RNN-Name-Generator.ipynb",
      "provenance": [],
      "collapsed_sections": [],
      "include_colab_link": true
    },
    "accelerator": "GPU"
  },
  "cells": [
    {
      "cell_type": "markdown",
      "metadata": {
        "id": "view-in-github",
        "colab_type": "text"
      },
      "source": [
        "<a href=\"https://colab.research.google.com/github/hardiksraja/RNN-Name-Generator/blob/master/RNN_Name_Generator.ipynb\" target=\"_parent\"><img src=\"https://colab.research.google.com/assets/colab-badge.svg\" alt=\"Open In Colab\"/></a>"
      ]
    },
    {
      "cell_type": "markdown",
      "metadata": {
        "id": "dUTmepb6Qa63",
        "colab_type": "text"
      },
      "source": [
        "#Names Generator Using Character Level Language Model (Using Reccurent Neural Network) "
      ]
    },
    {
      "cell_type": "markdown",
      "metadata": {
        "id": "OKTq3L0FU9A4",
        "colab_type": "text"
      },
      "source": [
        "In this project, we give a collection of known Indian baby names and train a model. Using this model, we generate similar looking random new names and also names starting with the user's choice of the alphabet. We use a recurrent neural network (RNN) for this task.\n"
      ]
    },
    {
      "cell_type": "markdown",
      "metadata": {
        "id": "UssB4Kiymzsb",
        "colab_type": "text"
      },
      "source": [
        "# Setup"
      ]
    },
    {
      "cell_type": "code",
      "metadata": {
        "id": "vOWRgBRvU9BB",
        "colab_type": "code",
        "colab": {}
      },
      "source": [
        "import numpy as np\n",
        "import requests\n",
        "import os\n",
        "import tensorflow as tf"
      ],
      "execution_count": 1,
      "outputs": []
    },
    {
      "cell_type": "markdown",
      "metadata": {
        "id": "BRAmPavlU9A9",
        "colab_type": "text"
      },
      "source": [
        "# Gather and clean up the  data"
      ]
    },
    {
      "cell_type": "markdown",
      "metadata": {
        "id": "Nu1hSZX0U9A_",
        "colab_type": "text"
      },
      "source": [
        "The training data is a collection of Indian baby names downloaded from the website (http://n3.datasn.io) via an API returning these name collection in JSON format. The dataset consists of 400 names."
      ]
    },
    {
      "cell_type": "code",
      "metadata": {
        "id": "WrnpENJDNThm",
        "colab_type": "code",
        "colab": {
          "base_uri": "https://localhost:8080/",
          "height": 108
        },
        "outputId": "710b0fe3-b72c-472d-c55a-7bb998c6c2c9"
      },
      "source": [
        "results=[]\n",
        "for i in range(1, 5):\n",
        "  result = requests.get(\"http://n3.datasn.io/data/api/v1/n3_chennan/hindu_baby_names/by_table/baby_name/\" +str(i) +\"/?app=json\").json()\n",
        "  results.append(result)\n",
        "print('All results stored in : ', type(results))\n",
        "print('Each result is of type : ', type(results[0]))\n",
        "print('Indivial result sample : \\n', results[0])"
      ],
      "execution_count": 2,
      "outputs": [
        {
          "output_type": "stream",
          "text": [
            "All results stored in :  <class 'list'>\n",
            "Each result is of type :  <class 'dict'>\n",
            "Indivial result sample : \n",
            " {'sample': {'is_sample': 'TRUE', 'limit_total': 400}, 'api': {'title': 'Hindu Baby Names', 'point': {'title': 'By Table', 'desc': 'Each API function returns data from a specific database table. '}}, 'input': {'url': False, 'get': False, 'post': False}, 'links': {'up': {'href': 'http://n3.datasn.io/data/api/v1/n3_chennan/hindu_baby_names/by_table/'}, 'home': {'href': 'http://n3.datasn.io/data/api/v1/n3_chennan/hindu_baby_names/by_table/baby_name/?app=json'}, 'next': {'href': 'http://n3.datasn.io/data/api/v1/n3_chennan/hindu_baby_names/by_table/baby_name/2/?app=json'}}, 'meta': {'query': {'page': 1, 'limit': 100, 'limit_total': 400, 'time': 0.00136}, 'stats': {'raw_rows': 100, 'rows': 100, 'rows_total': '4364', 'pages_total': 44}, 'struct': {'stem': ['baby_name'], 'leaf': 'baby_name.id', 'leaf_stem': [], 'leaf_stem_leaf': None}}, 'output': {'rows': {'1': {'baby_name.id': '1', 'baby_name.ts': '2018-03-22 15:39:32', 'baby_name.name': 'Aadarsh', 'baby_name.gender': 'Boy', 'baby_name.meaning': 'One who has principles'}, '2': {'baby_name.id': '2', 'baby_name.ts': '2018-03-22 15:39:32', 'baby_name.name': 'Aadav', 'baby_name.gender': 'Boy', 'baby_name.meaning': 'The sun, bright, powerful, intelligent'}, '3': {'baby_name.id': '3', 'baby_name.ts': '2018-03-22 15:39:32', 'baby_name.name': 'Aadesh', 'baby_name.gender': 'Boy', 'baby_name.meaning': 'Command, Message'}, '4': {'baby_name.id': '4', 'baby_name.ts': '2018-03-22 15:39:32', 'baby_name.name': 'Aadhidev', 'baby_name.gender': 'Boy', 'baby_name.meaning': 'First god'}, '5': {'baby_name.id': '5', 'baby_name.ts': '2018-03-22 15:39:32', 'baby_name.name': 'Aadhira', 'baby_name.gender': 'Girl', 'baby_name.meaning': 'Moon'}, '6': {'baby_name.id': '6', 'baby_name.ts': '2018-03-22 15:39:32', 'baby_name.name': 'Aadhishankar', 'baby_name.gender': 'Boy', 'baby_name.meaning': 'Sri Shankaracharya, founder of Adwaitha Philosophy'}, '7': {'baby_name.id': '7', 'baby_name.ts': '2018-03-22 15:39:32', 'baby_name.name': 'Aadit', 'baby_name.gender': 'Boy', 'baby_name.meaning': 'Peak'}, '8': {'baby_name.id': '8', 'baby_name.ts': '2018-03-22 15:39:32', 'baby_name.name': 'Aaditey', 'baby_name.gender': 'Boy', 'baby_name.meaning': 'Son of aditi'}, '9': {'baby_name.id': '9', 'baby_name.ts': '2018-03-22 15:39:32', 'baby_name.name': 'Aagman', 'baby_name.gender': 'Boy', 'baby_name.meaning': 'Arrival'}, '10': {'baby_name.id': '10', 'baby_name.ts': '2018-03-22 15:39:32', 'baby_name.name': 'Aagney', 'baby_name.gender': 'Boy', 'baby_name.meaning': 'Born from fire'}, '11': {'baby_name.id': '11', 'baby_name.ts': '2018-03-22 15:39:32', 'baby_name.name': 'Aahna', 'baby_name.gender': 'Girl', 'baby_name.meaning': 'Exist'}, '12': {'baby_name.id': '12', 'baby_name.ts': '2018-03-22 15:39:32', 'baby_name.name': 'Aahva', 'baby_name.gender': 'Boy', 'baby_name.meaning': 'Beloved'}, '13': {'baby_name.id': '13', 'baby_name.ts': '2018-03-22 15:39:32', 'baby_name.name': 'Aahwaanith', 'baby_name.gender': 'Boy', 'baby_name.meaning': 'Wanted'}, '14': {'baby_name.id': '14', 'baby_name.ts': '2018-03-22 15:39:32', 'baby_name.name': 'Aakaanksha', 'baby_name.gender': 'Girl', 'baby_name.meaning': 'Desire'}, '15': {'baby_name.id': '15', 'baby_name.ts': '2018-03-22 15:39:32', 'baby_name.name': 'Aakarshan', 'baby_name.gender': 'Boy', 'baby_name.meaning': 'Attraction'}, '16': {'baby_name.id': '16', 'baby_name.ts': '2018-03-22 15:39:32', 'baby_name.name': 'Aaloka', 'baby_name.gender': 'Girl', 'baby_name.meaning': 'Cry Of Victory'}, '17': {'baby_name.id': '17', 'baby_name.ts': '2018-03-22 15:39:32', 'baby_name.name': 'Aamod', 'baby_name.gender': 'Boy', 'baby_name.meaning': 'Pleasant, accept'}, '18': {'baby_name.id': '18', 'baby_name.ts': '2018-03-22 15:39:32', 'baby_name.name': 'Aanandhi', 'baby_name.gender': 'Girl', 'baby_name.meaning': 'Always happy'}, '19': {'baby_name.id': '19', 'baby_name.ts': '2018-03-22 15:39:32', 'baby_name.name': 'Aaradhya', 'baby_name.gender': 'Girl', 'baby_name.meaning': 'Worshipped'}, '20': {'baby_name.id': '20', 'baby_name.ts': '2018-03-22 15:39:32', 'baby_name.name': 'Aaral', 'baby_name.gender': 'Girl', 'baby_name.meaning': 'Flower'}, '21': {'baby_name.id': '21', 'baby_name.ts': '2018-03-22 15:39:32', 'baby_name.name': 'Aarav', 'baby_name.gender': 'Boy', 'baby_name.meaning': 'Peaceful'}, '22': {'baby_name.id': '22', 'baby_name.ts': '2018-03-22 15:39:32', 'baby_name.name': 'Aarnav', 'baby_name.gender': 'Boy', 'baby_name.meaning': 'Ocean'}, '23': {'baby_name.id': '23', 'baby_name.ts': '2018-03-22 15:39:32', 'baby_name.name': 'Aaruthira', 'baby_name.gender': 'Girl', 'baby_name.meaning': 'Mellowness; Tranquility; Softness'}, '24': {'baby_name.id': '24', 'baby_name.ts': '2018-03-22 15:39:32', 'baby_name.name': 'Aaryahi', 'baby_name.gender': 'Girl', 'baby_name.meaning': 'Godess Durga'}, '25': {'baby_name.id': '25', 'baby_name.ts': '2018-03-22 15:39:32', 'baby_name.name': 'Aashi', 'baby_name.gender': 'Girl', 'baby_name.meaning': 'Smile'}, '26': {'baby_name.id': '26', 'baby_name.ts': '2018-03-22 15:39:37', 'baby_name.name': 'Baani', 'baby_name.gender': 'Girl', 'baby_name.meaning': 'Earth'}, '27': {'baby_name.id': '27', 'baby_name.ts': '2018-03-22 15:39:37', 'baby_name.name': 'Babala', 'baby_name.gender': 'Boy', 'baby_name.meaning': 'Above'}, '28': {'baby_name.id': '28', 'baby_name.ts': '2018-03-22 15:39:37', 'baby_name.name': 'Babul', 'baby_name.gender': 'Boy', 'baby_name.meaning': 'Hindu Boy'}, '29': {'baby_name.id': '29', 'baby_name.ts': '2018-03-22 15:39:37', 'baby_name.name': 'Badal', 'baby_name.gender': 'Boy', 'baby_name.meaning': 'Cloud'}, '30': {'baby_name.id': '30', 'baby_name.ts': '2018-03-22 15:39:37', 'baby_name.name': 'Badhra', 'baby_name.gender': 'Girl', 'baby_name.meaning': 'Full moon'}, '31': {'baby_name.id': '31', 'baby_name.ts': '2018-03-22 15:39:37', 'baby_name.name': 'Badri prasad', 'baby_name.gender': 'Boy', 'baby_name.meaning': 'Gift Of Badri'}, '32': {'baby_name.id': '32', 'baby_name.ts': '2018-03-22 15:39:37', 'baby_name.name': 'Badrinath', 'baby_name.gender': 'Boy', 'baby_name.meaning': 'Lord Of Mount Badri, Vishnu'}, '33': {'baby_name.id': '33', 'baby_name.ts': '2018-03-22 15:39:37', 'baby_name.name': 'Badriya', 'baby_name.gender': 'Girl', 'baby_name.meaning': 'Resembling Full Moon'}, '34': {'baby_name.id': '34', 'baby_name.ts': '2018-03-22 15:39:37', 'baby_name.name': 'Bagyawathi', 'baby_name.gender': 'Girl', 'baby_name.meaning': 'Lucky'}, '35': {'baby_name.id': '35', 'baby_name.ts': '2018-03-22 15:39:37', 'baby_name.name': 'Bahula', 'baby_name.gender': 'Girl', 'baby_name.meaning': 'A Star'}, '36': {'baby_name.id': '36', 'baby_name.ts': '2018-03-22 15:39:37', 'baby_name.name': 'Baiju', 'baby_name.gender': 'Boy', 'baby_name.meaning': 'Sun ,source of energy'}, '37': {'baby_name.id': '37', 'baby_name.ts': '2018-03-22 15:39:37', 'baby_name.name': 'Bairavi', 'baby_name.gender': 'Girl', 'baby_name.meaning': 'Goddess Durga, Melody (Raag)'}, '38': {'baby_name.id': '38', 'baby_name.ts': '2018-03-22 15:39:37', 'baby_name.name': 'Bakula', 'baby_name.gender': 'Girl', 'baby_name.meaning': 'Nagakeshar flower'}, '39': {'baby_name.id': '39', 'baby_name.ts': '2018-03-22 15:39:37', 'baby_name.name': 'Bala', 'baby_name.gender': 'Girl', 'baby_name.meaning': 'Young Girl'}, '40': {'baby_name.id': '40', 'baby_name.ts': '2018-03-22 15:39:37', 'baby_name.name': 'Balaaditya', 'baby_name.gender': 'Boy', 'baby_name.meaning': 'Rising Sun'}, '41': {'baby_name.id': '41', 'baby_name.ts': '2018-03-22 15:39:37', 'baby_name.name': 'Balachandra', 'baby_name.gender': 'Boy', 'baby_name.meaning': 'Young Moon'}, '42': {'baby_name.id': '42', 'baby_name.ts': '2018-03-22 15:39:37', 'baby_name.name': 'Balaji', 'baby_name.gender': 'Boy', 'baby_name.meaning': 'Name Of Lord Vishnu'}, '43': {'baby_name.id': '43', 'baby_name.ts': '2018-03-22 15:39:37', 'baby_name.name': 'Balakrishna', 'baby_name.gender': 'Boy', 'baby_name.meaning': 'Young Lord Krishna'}, '44': {'baby_name.id': '44', 'baby_name.ts': '2018-03-22 15:39:37', 'baby_name.name': 'Balamani', 'baby_name.gender': 'Boy', 'baby_name.meaning': 'Young Jewel'}, '45': {'baby_name.id': '45', 'baby_name.ts': '2018-03-22 15:39:37', 'baby_name.name': 'Balamohan', 'baby_name.gender': 'Boy', 'baby_name.meaning': 'One Who Is Good Looking, Attractive'}, '46': {'baby_name.id': '46', 'baby_name.ts': '2018-03-22 15:39:37', 'baby_name.name': 'Balan', 'baby_name.gender': 'Boy', 'baby_name.meaning': 'Youthful'}, '47': {'baby_name.id': '47', 'baby_name.ts': '2018-03-22 15:39:37', 'baby_name.name': 'Balashankar', 'baby_name.gender': 'Boy', 'baby_name.meaning': 'Young Lord Shiva'}, '48': {'baby_name.id': '48', 'baby_name.ts': '2018-03-22 15:39:37', 'baby_name.name': 'Balavan', 'baby_name.gender': 'Boy', 'baby_name.meaning': 'Powerful'}, '49': {'baby_name.id': '49', 'baby_name.ts': '2018-03-22 15:39:37', 'baby_name.name': 'Baldev', 'baby_name.gender': 'Boy', 'baby_name.meaning': 'Godlike In Power, Balram'}, '50': {'baby_name.id': '50', 'baby_name.ts': '2018-03-22 15:39:37', 'baby_name.name': 'Balendu', 'baby_name.gender': 'Boy', 'baby_name.meaning': 'Young Moon'}, '51': {'baby_name.id': '51', 'baby_name.ts': '2018-03-22 15:39:41', 'baby_name.name': 'Cauvery, Cavery', 'baby_name.gender': 'Girl', 'baby_name.meaning': 'Name Of A River In India'}, '52': {'baby_name.id': '52', 'baby_name.ts': '2018-03-22 15:39:41', 'baby_name.name': 'Chaaya', 'baby_name.gender': 'Girl', 'baby_name.meaning': 'Shadow'}, '53': {'baby_name.id': '53', 'baby_name.ts': '2018-03-22 15:39:41', 'baby_name.name': 'Chaitali', 'baby_name.gender': 'Girl', 'baby_name.meaning': 'Born In The Chaitra Month'}, '54': {'baby_name.id': '54', 'baby_name.ts': '2018-03-22 15:39:41', 'baby_name.name': 'Chaitali, Chaitalee', 'baby_name.gender': 'Girl', 'baby_name.meaning': 'Girl Born In Month Of Chaitra'}, '55': {'baby_name.id': '55', 'baby_name.ts': '2018-03-22 15:39:41', 'baby_name.name': 'Chaitanya', 'baby_name.gender': 'Boy', 'baby_name.meaning': 'Knowledge , Life'}, '56': {'baby_name.id': '56', 'baby_name.ts': '2018-03-22 15:39:41', 'baby_name.name': 'Chaitra', 'baby_name.gender': 'Girl', 'baby_name.meaning': 'Aries sign'}, '57': {'baby_name.id': '57', 'baby_name.ts': '2018-03-22 15:39:41', 'baby_name.name': 'Chakradhar', 'baby_name.gender': 'Boy', 'baby_name.meaning': 'One Who Carries Chakra (Krishna, Vishnu)'}, '58': {'baby_name.id': '58', 'baby_name.ts': '2018-03-22 15:39:41', 'baby_name.name': 'Chakrapani', 'baby_name.gender': 'Boy', 'baby_name.meaning': 'Lord Vishnu'}, '59': {'baby_name.id': '59', 'baby_name.ts': '2018-03-22 15:39:41', 'baby_name.name': 'Chakshan', 'baby_name.gender': 'Boy', 'baby_name.meaning': 'Hindu Boy'}, '60': {'baby_name.id': '60', 'baby_name.ts': '2018-03-22 15:39:41', 'baby_name.name': 'Chaman', 'baby_name.gender': 'Boy', 'baby_name.meaning': 'A Garden'}, '61': {'baby_name.id': '61', 'baby_name.ts': '2018-03-22 15:39:41', 'baby_name.name': 'Chameli', 'baby_name.gender': 'Girl', 'baby_name.meaning': 'Creeper With Sweet Scented Flower'}, '62': {'baby_name.id': '62', 'baby_name.ts': '2018-03-22 15:39:41', 'baby_name.name': 'Champa', 'baby_name.gender': 'Girl', 'baby_name.meaning': 'Fragrant Flower'}, '63': {'baby_name.id': '63', 'baby_name.ts': '2018-03-22 15:39:41', 'baby_name.name': 'Champak', 'baby_name.gender': 'Boy', 'baby_name.meaning': 'Champa ( Flower ) , Pagoda ( Flower )'}, '64': {'baby_name.id': '64', 'baby_name.ts': '2018-03-22 15:39:41', 'baby_name.name': 'Chanchal', 'baby_name.gender': 'Girl', 'baby_name.meaning': 'Active'}, '65': {'baby_name.id': '65', 'baby_name.ts': '2018-03-22 15:39:41', 'baby_name.name': 'Chanda', 'baby_name.gender': 'Girl', 'baby_name.meaning': 'Moon'}, '66': {'baby_name.id': '66', 'baby_name.ts': '2018-03-22 15:39:41', 'baby_name.name': 'Chandan', 'baby_name.gender': 'Boy', 'baby_name.meaning': 'Sandalwood'}, '67': {'baby_name.id': '67', 'baby_name.ts': '2018-03-22 15:39:41', 'baby_name.name': 'Chandana', 'baby_name.gender': 'Girl', 'baby_name.meaning': 'Sandal wood, parrot'}, '68': {'baby_name.id': '68', 'baby_name.ts': '2018-03-22 15:39:41', 'baby_name.name': 'Chandani, Chandini', 'baby_name.gender': 'Girl', 'baby_name.meaning': 'Moon- Light'}, '69': {'baby_name.id': '69', 'baby_name.ts': '2018-03-22 15:39:41', 'baby_name.name': 'Chandanika', 'baby_name.gender': 'Girl', 'baby_name.meaning': 'Diminutive'}, '70': {'baby_name.id': '70', 'baby_name.ts': '2018-03-22 15:39:41', 'baby_name.name': 'Chandarmouli', 'baby_name.gender': 'Boy', 'baby_name.meaning': 'Lord Shiva'}, '71': {'baby_name.id': '71', 'baby_name.ts': '2018-03-22 15:39:41', 'baby_name.name': 'Chander moon', 'baby_name.gender': 'Boy', 'baby_name.meaning': 'Hindu Boy'}, '72': {'baby_name.id': '72', 'baby_name.ts': '2018-03-22 15:39:41', 'baby_name.name': 'Chandhini', 'baby_name.gender': 'Girl', 'baby_name.meaning': 'Moon light'}, '73': {'baby_name.id': '73', 'baby_name.ts': '2018-03-22 15:39:41', 'baby_name.name': 'Chandika', 'baby_name.gender': 'Girl', 'baby_name.meaning': 'Goddess Durga'}, '74': {'baby_name.id': '74', 'baby_name.ts': '2018-03-22 15:39:41', 'baby_name.name': 'Chandini', 'baby_name.gender': 'Girl', 'baby_name.meaning': 'Moon light'}, '75': {'baby_name.id': '75', 'baby_name.ts': '2018-03-22 15:39:41', 'baby_name.name': 'Chandra', 'baby_name.gender': 'Girl', 'baby_name.meaning': 'Moon'}, '76': {'baby_name.id': '76', 'baby_name.ts': '2018-03-22 15:39:47', 'baby_name.name': 'Dahana', 'baby_name.gender': 'Boy', 'baby_name.meaning': 'A Rudra'}, '77': {'baby_name.id': '77', 'baby_name.ts': '2018-03-22 15:39:47', 'baby_name.name': 'Daksh', 'baby_name.gender': 'Boy', 'baby_name.meaning': 'Precious Son'}, '78': {'baby_name.id': '78', 'baby_name.ts': '2018-03-22 15:39:47', 'baby_name.name': 'Daksha', 'baby_name.gender': 'Girl', 'baby_name.meaning': 'The Earth'}, '79': {'baby_name.id': '79', 'baby_name.ts': '2018-03-22 15:39:47', 'baby_name.name': 'Dakshata', 'baby_name.gender': 'Girl', 'baby_name.meaning': 'Skill'}, '80': {'baby_name.id': '80', 'baby_name.ts': '2018-03-22 15:39:47', 'baby_name.name': 'Dakshesh', 'baby_name.gender': 'Boy', 'baby_name.meaning': 'Lord Shiva'}, '81': {'baby_name.id': '81', 'baby_name.ts': '2018-03-22 15:39:47', 'baby_name.name': 'Dakshi', 'baby_name.gender': 'Girl', 'baby_name.meaning': 'The Glorious'}, '82': {'baby_name.id': '82', 'baby_name.ts': '2018-03-22 15:39:47', 'baby_name.name': 'Dakshin', 'baby_name.gender': 'Boy', 'baby_name.meaning': 'South Direction'}, '83': {'baby_name.id': '83', 'baby_name.ts': '2018-03-22 15:39:47', 'baby_name.name': 'Daljeet', 'baby_name.gender': 'Boy', 'baby_name.meaning': 'The conqueror of forces'}, '84': {'baby_name.id': '84', 'baby_name.ts': '2018-03-22 15:39:47', 'baby_name.name': 'Daman', 'baby_name.gender': 'Boy', 'baby_name.meaning': 'Rope; Girdle'}, '85': {'baby_name.id': '85', 'baby_name.ts': '2018-03-22 15:39:47', 'baby_name.name': 'Damayanti', 'baby_name.gender': 'Girl', 'baby_name.meaning': \"Nala's Wife\"}, '86': {'baby_name.id': '86', 'baby_name.ts': '2018-03-22 15:39:47', 'baby_name.name': 'Damini', 'baby_name.gender': 'Girl', 'baby_name.meaning': 'Lightning'}, '87': {'baby_name.id': '87', 'baby_name.ts': '2018-03-22 15:39:47', 'baby_name.name': 'Damodar', 'baby_name.gender': 'Boy', 'baby_name.meaning': 'Lord Krishna'}, '88': {'baby_name.id': '88', 'baby_name.ts': '2018-03-22 15:39:47', 'baby_name.name': 'Daniel', 'baby_name.gender': 'Boy', 'baby_name.meaning': 'God Is My Judge'}, '89': {'baby_name.id': '89', 'baby_name.ts': '2018-03-22 15:39:47', 'baby_name.name': 'Danish', 'baby_name.gender': 'Boy', 'baby_name.meaning': 'To be clever'}, '90': {'baby_name.id': '90', 'baby_name.ts': '2018-03-22 15:39:47', 'baby_name.name': 'Darpan', 'baby_name.gender': 'Girl', 'baby_name.meaning': 'Mirror'}, '91': {'baby_name.id': '91', 'baby_name.ts': '2018-03-22 15:39:47', 'baby_name.name': 'Darpana', 'baby_name.gender': 'Girl', 'baby_name.meaning': 'Mirror'}, '92': {'baby_name.id': '92', 'baby_name.ts': '2018-03-22 15:39:47', 'baby_name.name': 'Darpita', 'baby_name.gender': 'Girl', 'baby_name.meaning': 'Proud'}, '93': {'baby_name.id': '93', 'baby_name.ts': '2018-03-22 15:39:47', 'baby_name.name': 'Darsha', 'baby_name.gender': 'Girl', 'baby_name.meaning': 'To See'}, '94': {'baby_name.id': '94', 'baby_name.ts': '2018-03-22 15:39:47', 'baby_name.name': 'Darshan', 'baby_name.gender': 'Boy', 'baby_name.meaning': \"A God's Name\"}, '95': {'baby_name.id': '95', 'baby_name.ts': '2018-03-22 15:39:47', 'baby_name.name': 'Darshini', 'baby_name.gender': 'Girl', 'baby_name.meaning': 'Gift of God ; Blessed Girl'}, '96': {'baby_name.id': '96', 'baby_name.ts': '2018-03-22 15:39:47', 'baby_name.name': 'Darshit', 'baby_name.gender': 'Boy', 'baby_name.meaning': 'To pay respect'}, '97': {'baby_name.id': '97', 'baby_name.ts': '2018-03-22 15:39:47', 'baby_name.name': 'Daruka', 'baby_name.gender': 'Boy', 'baby_name.meaning': 'Deodar Tree'}, '98': {'baby_name.id': '98', 'baby_name.ts': '2018-03-22 15:39:47', 'baby_name.name': 'Das', 'baby_name.gender': 'Boy', 'baby_name.meaning': 'Serve the of God'}, '99': {'baby_name.id': '99', 'baby_name.ts': '2018-03-22 15:39:47', 'baby_name.name': 'Dasharath', 'baby_name.gender': 'Boy', 'baby_name.meaning': \"One With 10 Chariots, Lord Ram's Father\"}, '100': {'baby_name.id': '100', 'baby_name.ts': '2018-03-22 15:39:47', 'baby_name.name': 'Datta', 'baby_name.gender': 'Boy', 'baby_name.meaning': 'Given; Granted; Presented'}}}}\n"
          ],
          "name": "stdout"
        }
      ]
    },
    {
      "cell_type": "markdown",
      "metadata": {
        "id": "a6DWg8BKU9Bh",
        "colab_type": "text"
      },
      "source": [
        "We need to extract just the names from the list."
      ]
    },
    {
      "cell_type": "code",
      "metadata": {
        "id": "hEn80ohfU9Bj",
        "colab_type": "code",
        "colab": {
          "base_uri": "https://localhost:8080/",
          "height": 337
        },
        "outputId": "68a55e14-0af5-4aac-e7a2-1c48ee2e7b3a"
      },
      "source": [
        "full_names=[]\n",
        "k=0\n",
        "for j in range(len(results)):\n",
        "  result=results[j]\n",
        "  for i in range(1+k,result['meta']['query']['limit']+1+k):\n",
        "    try:\n",
        "      names = result['output']['rows'][str(i)]['baby_name.name']\n",
        "      full_names.append(names)\n",
        "    except KeyError:\n",
        "      print('Exception: Data missing for row index : ',i, \"Skipping the same !!\")\n",
        "  k=k+100\n",
        "\n",
        "full_names[:15]"
      ],
      "execution_count": 3,
      "outputs": [
        {
          "output_type": "stream",
          "text": [
            "Exception: Data missing for row index :  205 Skipping the same !!\n",
            "Exception: Data missing for row index :  301 Skipping the same !!\n",
            "Exception: Data missing for row index :  347 Skipping the same !!\n"
          ],
          "name": "stdout"
        },
        {
          "output_type": "execute_result",
          "data": {
            "text/plain": [
              "['Aadarsh',\n",
              " 'Aadav',\n",
              " 'Aadesh',\n",
              " 'Aadhidev',\n",
              " 'Aadhira',\n",
              " 'Aadhishankar',\n",
              " 'Aadit',\n",
              " 'Aaditey',\n",
              " 'Aagman',\n",
              " 'Aagney',\n",
              " 'Aahna',\n",
              " 'Aahva',\n",
              " 'Aahwaanith',\n",
              " 'Aakaanksha',\n",
              " 'Aakarshan']"
            ]
          },
          "metadata": {
            "tags": []
          },
          "execution_count": 3
        }
      ]
    },
    {
      "cell_type": "markdown",
      "metadata": {
        "id": "xgGYCL-aU9Bu",
        "colab_type": "text"
      },
      "source": [
        "This dataset is pretty small so we can study it manually. \n",
        "\n",
        "1. There are couple of instances where a particular name is listed in all possible ways, they could be spelled. In such cases, we consider only the first spelling.\n",
        "Eg.\n",
        "\n",
        "> *'Chandani, Chandini'*, we consider only, Chandani\n",
        "\n",
        "> *'Cauvery, Cavery'*, we consider only, Cauvery\n",
        "\n",
        "2. Also names containing special character are removed and we consider the valid part of name.\n",
        "\n",
        "> *'Raghuveer/vir'*, we consider only, Raghuveer\n",
        "\n",
        "3. We convert all the names in lower case, which would help us later in vocabalury generation and transforming characters to numbers and vice versa\n"
      ]
    },
    {
      "cell_type": "code",
      "metadata": {
        "id": "BFjR8Uu4u40h",
        "colab_type": "code",
        "colab": {}
      },
      "source": [
        "names_duplicates = list(map(lambda s : s.split(',')[0], full_names))\n",
        "names_duplicates = list(map(lambda s : s.split('/')[0], names_duplicates))\n",
        "names_duplicates = list(map(lambda s : s.lower(), names_duplicates))"
      ],
      "execution_count": 4,
      "outputs": []
    },
    {
      "cell_type": "markdown",
      "metadata": {
        "id": "PbNVl52J4Wb4",
        "colab_type": "text"
      },
      "source": [
        "The length of the names Corpus (May have duplicates)"
      ]
    },
    {
      "cell_type": "code",
      "metadata": {
        "id": "UAMLJnqQsT5-",
        "colab_type": "code",
        "colab": {
          "base_uri": "https://localhost:8080/",
          "height": 35
        },
        "outputId": "38417f45-75e2-4bce-c39b-2970ab457f85"
      },
      "source": [
        "print('Total Names fetched from API : ', len(names_duplicates))"
      ],
      "execution_count": 5,
      "outputs": [
        {
          "output_type": "stream",
          "text": [
            "Total Names fetched from API :  397\n"
          ],
          "name": "stdout"
        }
      ]
    },
    {
      "cell_type": "markdown",
      "metadata": {
        "id": "xFXUTfjmU9CG",
        "colab_type": "text"
      },
      "source": [
        "Now we get rid of any repeated names in the training set."
      ]
    },
    {
      "cell_type": "code",
      "metadata": {
        "id": "CI7HHH0bU9CI",
        "colab_type": "code",
        "colab": {
          "base_uri": "https://localhost:8080/",
          "height": 35
        },
        "outputId": "131cdc62-19a8-41ea-b0e6-88a6ce7e70a8"
      },
      "source": [
        "names = list(set(names_duplicates))\n",
        "print('Unique Names : ', len(names))"
      ],
      "execution_count": 6,
      "outputs": [
        {
          "output_type": "stream",
          "text": [
            "Unique Names :  388\n"
          ],
          "name": "stdout"
        }
      ]
    },
    {
      "cell_type": "markdown",
      "metadata": {
        "id": "3NZWTCmouMpa",
        "colab_type": "text"
      },
      "source": [
        "Final list of names for training; An Example of 10 names"
      ]
    },
    {
      "cell_type": "code",
      "metadata": {
        "id": "jttl13DcuJEl",
        "colab_type": "code",
        "colab": {
          "base_uri": "https://localhost:8080/",
          "height": 195
        },
        "outputId": "b94b9ee6-6410-43e0-9fa7-393c0cdabecf"
      },
      "source": [
        "names[:10]"
      ],
      "execution_count": 7,
      "outputs": [
        {
          "output_type": "execute_result",
          "data": {
            "text/plain": [
              "['babul',\n",
              " 'balaji',\n",
              " 'jagamohan',\n",
              " 'lakshmiraman',\n",
              " 'madhavi',\n",
              " 'naakesh',\n",
              " 'bakula',\n",
              " 'kalikesh',\n",
              " 'indrina',\n",
              " 'kalanath']"
            ]
          },
          "metadata": {
            "tags": []
          },
          "execution_count": 7
        }
      ]
    },
    {
      "cell_type": "markdown",
      "metadata": {
        "id": "sOuXtphTU9CT",
        "colab_type": "text"
      },
      "source": [
        "The last thing that will be useful to do is add a '.' at the end of each name. This will be helpfull to instruct the RNN that the name is over."
      ]
    },
    {
      "cell_type": "code",
      "metadata": {
        "id": "l4-sdXu2xL94",
        "colab_type": "code",
        "colab": {
          "base_uri": "https://localhost:8080/",
          "height": 195
        },
        "outputId": "8c3616a8-2b3f-4991-c534-2fd92aaf36f4"
      },
      "source": [
        "names = list(map(lambda s: s + '.', names))\n",
        "names[:10]"
      ],
      "execution_count": 8,
      "outputs": [
        {
          "output_type": "execute_result",
          "data": {
            "text/plain": [
              "['babul.',\n",
              " 'balaji.',\n",
              " 'jagamohan.',\n",
              " 'lakshmiraman.',\n",
              " 'madhavi.',\n",
              " 'naakesh.',\n",
              " 'bakula.',\n",
              " 'kalikesh.',\n",
              " 'indrina.',\n",
              " 'kalanath.']"
            ]
          },
          "metadata": {
            "tags": []
          },
          "execution_count": 8
        }
      ]
    },
    {
      "cell_type": "markdown",
      "metadata": {
        "id": "YICx3PMeU9Ce",
        "colab_type": "text"
      },
      "source": [
        "# Transform the data"
      ]
    },
    {
      "cell_type": "markdown",
      "metadata": {
        "id": "rRZCscrSU9Cg",
        "colab_type": "text"
      },
      "source": [
        "Now that we have our data cleaned up it's time to transform it into a form that the recurrent neural network will understand. we will input characters into the network instead of words. Each of these characters will require to be converted to numbers and the conversion is done using the following mappings:"
      ]
    },
    {
      "cell_type": "code",
      "metadata": {
        "id": "qjmVfm2OU9Ci",
        "colab_type": "code",
        "colab": {}
      },
      "source": [
        "# Convert from character to index\n",
        "char_to_index = dict( (chr(i+96), i) for i in range(1,27))\n",
        "char_to_index[' '] = 0\n",
        "char_to_index['.'] = 27\n",
        "\n",
        "# Convert from index to character\n",
        "index_to_char = dict( (i, chr(i+96)) for i in range(1,27))\n",
        "index_to_char[0] = ' '\n",
        "index_to_char[27] = '.'"
      ],
      "execution_count": 9,
      "outputs": []
    },
    {
      "cell_type": "code",
      "metadata": {
        "id": "bdzFLAc5U9Cs",
        "colab_type": "code",
        "colab": {
          "base_uri": "https://localhost:8080/",
          "height": 70
        },
        "outputId": "8070f202-b426-4dfb-e5fa-b03ddc2b8511"
      },
      "source": [
        "# number of elements in the list of names\n",
        "# this will be the number of training examples\n",
        "m = len(names)\n",
        "print('The number of training names : ', m)\n",
        "\n",
        "# maximum number of characters in the training names\n",
        "# this will be the number of time steps in the RNN\n",
        "max_char = len(max(names, key=len))\n",
        "print('Maximum No of characters in names among all the training names : ',max_char)\n",
        "\n",
        "# number of potential characters i.e. Size of Vocabulary\n",
        "# this will be the length of the input for each of the RNN units\n",
        "char_dim = len(char_to_index)\n",
        "print('Each character is represented with a one-hot encoding of size : ', char_dim)"
      ],
      "execution_count": 10,
      "outputs": [
        {
          "output_type": "stream",
          "text": [
            "The number of training names :  388\n",
            "Maximum No of characters in names among all the training names :  15\n",
            "Each character is represented with a one-hot encoding of size :  28\n"
          ],
          "name": "stdout"
        }
      ]
    },
    {
      "cell_type": "markdown",
      "metadata": {
        "id": "OWspIZTEU9C4",
        "colab_type": "text"
      },
      "source": [
        "Now we convert the list of names into a training dataset understanable to the RNN. The input *inputnames_array* of the network is an array of size (TrainingSampleSize, MaximumCharacters, EncodedCharacterRepresentation). It contains a matrix for each of the m training names (m as mentioned in above cell). Each matrix contains a row for each character in the name. (Note that there are always the same number of matrix rows and if a name doesn't have enough characters to fill the whole matrix, the remaining rows contain 0.) Each of these rows represents one character and it is encoded as a one-hot vector. This means that it is a vector of zeros with a one only in the entry that corresponds to the character that is present.\n",
        "\n",
        "The output *outputnames_array* is the same as the input but have names translated by one unit. This means that the ith character in name within *outputnames_array* is the (i+1)th one in the actual name. This means that the network predicts the character that follows a given character in a sequence i.e. Name. "
      ]
    },
    {
      "cell_type": "code",
      "metadata": {
        "id": "wpnv2PfsU9C6",
        "colab_type": "code",
        "colab": {}
      },
      "source": [
        "inputnames_array = np.zeros((m, max_char, char_dim))\n",
        "outputnames_array = np.zeros((m, max_char, char_dim))\n",
        "\n",
        "for i in range(m):\n",
        "    name = list(names[i])\n",
        "    for j in range(len(name)):\n",
        "        inputnames_array[i, j, char_to_index[name[j]]] = 1\n",
        "        if j < len(name)-1:\n",
        "            outputnames_array[i, j, char_to_index[name[j+1]]] = 1     "
      ],
      "execution_count": 11,
      "outputs": []
    },
    {
      "cell_type": "markdown",
      "metadata": {
        "id": "zWRw51nXU9DC",
        "colab_type": "text"
      },
      "source": [
        "# RNN model"
      ]
    },
    {
      "cell_type": "markdown",
      "metadata": {
        "id": "6Ar0Bx_YU9DE",
        "colab_type": "text"
      },
      "source": [
        "we will use is a many-to-many recurrent neural network. This is a network that contains a given number of 'time' steps (Steps are equal to The maximum no of characters in names among all the training names) that each act with the same weights on the individual inputs and are all connected. Each time step takes in one input (in this case one character) and outputs a one-hot vector that represents the probabilities for the input of the next time step. "
      ]
    },
    {
      "cell_type": "code",
      "metadata": {
        "id": "u_jocWf5U9DF",
        "colab_type": "code",
        "colab": {
          "base_uri": "https://localhost:8080/",
          "height": 35
        },
        "outputId": "55bc511a-64ee-4c00-957b-b0439ac9689d"
      },
      "source": [
        "from keras.models import Sequential\n",
        "from keras.layers import LSTM, Dense\n",
        "from keras.callbacks import LambdaCallback"
      ],
      "execution_count": 12,
      "outputs": [
        {
          "output_type": "stream",
          "text": [
            "Using TensorFlow backend.\n"
          ],
          "name": "stderr"
        }
      ]
    },
    {
      "cell_type": "markdown",
      "metadata": {
        "id": "4V3ppV_RU9DP",
        "colab_type": "text"
      },
      "source": [
        "Here we only consider one layer of recurrence, which we take to be LSTM with 128 units. We send the output of this layer to a fully connected dense layer that converts the result of the LSTM layer into a vector of EncodedCharacterRepresentation size using a softmax activation. We use categorical cross entropy as a cost function because of the softmax result and use Adam optimization. Here we are only generating new names and hence there is not really any useful metric to judge if the model does good so we will mostly just look at the results."
      ]
    },
    {
      "cell_type": "code",
      "metadata": {
        "id": "akGCkjdEU9DR",
        "colab_type": "code",
        "colab": {}
      },
      "source": [
        "model = Sequential()\n",
        "model.add(LSTM(128, input_shape=(max_char, char_dim), return_sequences=True))\n",
        "model.add(Dense(char_dim, activation='softmax'))\n",
        "\n",
        "model.compile(loss='categorical_crossentropy', optimizer='adam')"
      ],
      "execution_count": 13,
      "outputs": []
    },
    {
      "cell_type": "markdown",
      "metadata": {
        "id": "GMwHqdxD-jE4",
        "colab_type": "text"
      },
      "source": [
        "The model summary"
      ]
    },
    {
      "cell_type": "code",
      "metadata": {
        "id": "0u2i7vMIVmkP",
        "colab_type": "code",
        "colab": {
          "base_uri": "https://localhost:8080/",
          "height": 230
        },
        "outputId": "5ae5f5ef-74fd-468d-aab2-8d6d9e9bb39a"
      },
      "source": [
        "model.summary()"
      ],
      "execution_count": 14,
      "outputs": [
        {
          "output_type": "stream",
          "text": [
            "Model: \"sequential_1\"\n",
            "_________________________________________________________________\n",
            "Layer (type)                 Output Shape              Param #   \n",
            "=================================================================\n",
            "lstm_1 (LSTM)                (None, 15, 128)           80384     \n",
            "_________________________________________________________________\n",
            "dense_1 (Dense)              (None, 15, 28)            3612      \n",
            "=================================================================\n",
            "Total params: 83,996\n",
            "Trainable params: 83,996\n",
            "Non-trainable params: 0\n",
            "_________________________________________________________________\n"
          ],
          "name": "stdout"
        }
      ]
    },
    {
      "cell_type": "markdown",
      "metadata": {
        "id": "sdypnz1FU9Dc",
        "colab_type": "text"
      },
      "source": [
        "Once this model is trained we will use it to create new baby names. This is achieved using the following function. The idea is to input empty characters to the trained network and use the output of the first time step as a probability distribution for the first letter of the name. We then use this distribution to decide randomly the first character, record it and update the input to pass this character as an input for the second time step. This is continued for the following time steps to create a name.\n",
        "\n",
        "This is where using a '.' at the end of each name becomes important, because we stop the procedure once we get a '.' as an output, meaning that the generated name is completed. Also if we reach the length of the largest name in the training set we put a '.' and end the procedure."
      ]
    },
    {
      "cell_type": "code",
      "metadata": {
        "id": "UHbc4fK_U9De",
        "colab_type": "code",
        "colab": {}
      },
      "source": [
        "def create_name(model):\n",
        "    name = []\n",
        "    x = np.zeros((1, max_char, char_dim))\n",
        "    end = False\n",
        "    i = 0\n",
        "    \n",
        "    while end==False:\n",
        "        temp=model.predict(x)\n",
        "        probs = list(temp[0,i])\n",
        "        probs = probs / np.sum(probs)\n",
        "        index = np.random.choice(range(char_dim), p=probs)\n",
        "        if i == max_char-2:\n",
        "            character = '.'\n",
        "            end = True\n",
        "        else:\n",
        "            character = index_to_char[index]\n",
        "        name.append(character)\n",
        "        x[0, i+1, index] = 1\n",
        "        i += 1\n",
        "        if character == '.':\n",
        "            end = True\n",
        "    \n",
        "    print(''.join(name))"
      ],
      "execution_count": 15,
      "outputs": []
    },
    {
      "cell_type": "markdown",
      "metadata": {
        "id": "EKE6jNwiU9Dm",
        "colab_type": "text"
      },
      "source": [
        "Now we use the below function during the training to monitor how the generated names get better with passing epochs. To this end we create a function that will be given to the model when we fit it. We basically run the previous function a few times every 25 epochs and print the results."
      ]
    },
    {
      "cell_type": "code",
      "metadata": {
        "id": "_PMCD84gU9Do",
        "colab_type": "code",
        "colab": {}
      },
      "source": [
        "def generate_name_loop(epoch, _):\n",
        "    if epoch % 50 == 0:\n",
        "        \n",
        "        print('Following are the names generated after epoch %d:' % epoch)\n",
        "\n",
        "        for i in range(3):\n",
        "            create_name(model)\n",
        "        \n",
        "        print()"
      ],
      "execution_count": 16,
      "outputs": []
    },
    {
      "cell_type": "markdown",
      "metadata": {
        "id": "Ho01HofSmik6",
        "colab_type": "text"
      },
      "source": [
        "Below is an additional method that facilitates creation of names starting with the provided Alphabet; The same is called on the trained model"
      ]
    },
    {
      "cell_type": "code",
      "metadata": {
        "id": "QudSKgoymhUg",
        "colab_type": "code",
        "colab": {}
      },
      "source": [
        "def create_name_starting_with_character(model, character):\n",
        "    character = character.lower()\n",
        "    name = [character]\n",
        "    x = np.zeros((1, max_char, char_dim))\n",
        "    x[0,0,char_to_index[character]]=1\n",
        "    end = False\n",
        "    i = 1\n",
        "    \n",
        "    while end==False:\n",
        "        temp=model.predict(x)\n",
        "        probs = list(temp[0,i])\n",
        "        probs = probs / np.sum(probs)\n",
        "        index = np.random.choice(range(char_dim), p=probs)\n",
        "        if i == max_char-2:\n",
        "            character = '.'\n",
        "            end = True\n",
        "        else:\n",
        "            character = index_to_char[index]\n",
        "        name.append(character)\n",
        "        x[0, i+1, index] = 1\n",
        "        i += 1\n",
        "        if character == '.':\n",
        "            end = True\n",
        "    \n",
        "    print(''.join(name))"
      ],
      "execution_count": 17,
      "outputs": []
    },
    {
      "cell_type": "markdown",
      "metadata": {
        "id": "tGYR8qMMU9D1",
        "colab_type": "text"
      },
      "source": [
        "This converts the function to be able to use it in keras as a callback mechanism during model fitting."
      ]
    },
    {
      "cell_type": "code",
      "metadata": {
        "id": "R9auYcOb_860",
        "colab_type": "code",
        "colab": {}
      },
      "source": [
        "def get_callbacks():\n",
        "  return [\n",
        "    tf.keras.callbacks.EarlyStopping(monitor='loss', patience=5, mode='min'),\n",
        "    LambdaCallback(on_epoch_end = generate_name_loop),\n",
        "  ]"
      ],
      "execution_count": 18,
      "outputs": []
    },
    {
      "cell_type": "code",
      "metadata": {
        "id": "VpliBmC62iWM",
        "colab_type": "code",
        "colab": {}
      },
      "source": [
        "batch_size=64\n",
        "epochs=1000"
      ],
      "execution_count": 19,
      "outputs": []
    },
    {
      "cell_type": "markdown",
      "metadata": {
        "id": "UqiOxsTzU9EA",
        "colab_type": "text"
      },
      "source": [
        "Now, we fit the model with the function and look at the results. It is clear that the names make more and more sense as we train more with passing epochs."
      ]
    },
    {
      "cell_type": "code",
      "metadata": {
        "id": "CTsdNMTFU9EB",
        "colab_type": "code",
        "colab": {
          "base_uri": "https://localhost:8080/",
          "height": 1000
        },
        "outputId": "a6b57134-95ec-45a9-a6c8-c0b73d5ac8a9"
      },
      "source": [
        "history = model.fit(inputnames_array, outputnames_array, batch_size=batch_size, epochs=epochs, callbacks=get_callbacks())"
      ],
      "execution_count": 20,
      "outputs": [
        {
          "output_type": "stream",
          "text": [
            "Epoch 1/1000\n",
            "388/388 [==============================] - 1s 3ms/step - loss: 1.6206\n",
            "Following are the names generated after epoch 0:\n",
            "kbnellia.\n",
            "voyelptagotbe.\n",
            "akqfnzcwx.\n",
            "\n",
            "Epoch 2/1000\n",
            "388/388 [==============================] - 0s 1ms/step - loss: 1.5816\n",
            "Epoch 3/1000\n",
            "388/388 [==============================] - 0s 1ms/step - loss: 1.4965\n",
            "Epoch 4/1000\n",
            "388/388 [==============================] - 0s 985us/step - loss: 1.4224\n",
            "Epoch 5/1000\n",
            "388/388 [==============================] - 0s 1ms/step - loss: 1.3889\n",
            "Epoch 6/1000\n",
            "388/388 [==============================] - 0s 1ms/step - loss: 1.3645\n",
            "Epoch 7/1000\n",
            "388/388 [==============================] - 0s 1ms/step - loss: 1.3489\n",
            "Epoch 8/1000\n",
            "388/388 [==============================] - 0s 1ms/step - loss: 1.3351\n",
            "Epoch 9/1000\n",
            "388/388 [==============================] - 0s 1ms/step - loss: 1.3240\n",
            "Epoch 10/1000\n",
            "388/388 [==============================] - 0s 1ms/step - loss: 1.3139\n",
            "Epoch 11/1000\n",
            "388/388 [==============================] - 0s 1ms/step - loss: 1.3037\n",
            "Epoch 12/1000\n",
            "388/388 [==============================] - 0s 1ms/step - loss: 1.2952\n",
            "Epoch 13/1000\n",
            "388/388 [==============================] - 0s 1ms/step - loss: 1.2847\n",
            "Epoch 14/1000\n",
            "388/388 [==============================] - 0s 953us/step - loss: 1.2746\n",
            "Epoch 15/1000\n",
            "388/388 [==============================] - 0s 1ms/step - loss: 1.2646\n",
            "Epoch 16/1000\n",
            "388/388 [==============================] - 0s 985us/step - loss: 1.2545\n",
            "Epoch 17/1000\n",
            "388/388 [==============================] - 0s 1ms/step - loss: 1.2442\n",
            "Epoch 18/1000\n",
            "388/388 [==============================] - 0s 965us/step - loss: 1.2325\n",
            "Epoch 19/1000\n",
            "388/388 [==============================] - 0s 994us/step - loss: 1.2227\n",
            "Epoch 20/1000\n",
            "388/388 [==============================] - 0s 1ms/step - loss: 1.2096\n",
            "Epoch 21/1000\n",
            "388/388 [==============================] - 0s 1ms/step - loss: 1.1994\n",
            "Epoch 22/1000\n",
            "388/388 [==============================] - 0s 1ms/step - loss: 1.1854\n",
            "Epoch 23/1000\n",
            "388/388 [==============================] - 0s 1ms/step - loss: 1.1732\n",
            "Epoch 24/1000\n",
            "388/388 [==============================] - 0s 955us/step - loss: 1.1602\n",
            "Epoch 25/1000\n",
            "388/388 [==============================] - 0s 1ms/step - loss: 1.1485\n",
            "Epoch 26/1000\n",
            "388/388 [==============================] - 0s 1ms/step - loss: 1.1349\n",
            "Epoch 27/1000\n",
            "388/388 [==============================] - 0s 990us/step - loss: 1.1239\n",
            "Epoch 28/1000\n",
            "388/388 [==============================] - 0s 1ms/step - loss: 1.1117\n",
            "Epoch 29/1000\n",
            "388/388 [==============================] - 0s 1ms/step - loss: 1.0982\n",
            "Epoch 30/1000\n",
            "388/388 [==============================] - 0s 1ms/step - loss: 1.0866\n",
            "Epoch 31/1000\n",
            "388/388 [==============================] - 0s 990us/step - loss: 1.0724\n",
            "Epoch 32/1000\n",
            "388/388 [==============================] - 0s 1ms/step - loss: 1.0583\n",
            "Epoch 33/1000\n",
            "388/388 [==============================] - 0s 1ms/step - loss: 1.0468\n",
            "Epoch 34/1000\n",
            "388/388 [==============================] - 0s 1ms/step - loss: 1.0358\n",
            "Epoch 35/1000\n",
            "388/388 [==============================] - 0s 1ms/step - loss: 1.0210\n",
            "Epoch 36/1000\n",
            "388/388 [==============================] - 0s 1ms/step - loss: 1.0102\n",
            "Epoch 37/1000\n",
            "388/388 [==============================] - 0s 1ms/step - loss: 1.0003\n",
            "Epoch 38/1000\n",
            "388/388 [==============================] - 0s 1ms/step - loss: 0.9892\n",
            "Epoch 39/1000\n",
            "388/388 [==============================] - 0s 1ms/step - loss: 0.9839\n",
            "Epoch 40/1000\n",
            "388/388 [==============================] - 0s 1ms/step - loss: 0.9710\n",
            "Epoch 41/1000\n",
            "388/388 [==============================] - 0s 1ms/step - loss: 0.9639\n",
            "Epoch 42/1000\n",
            "388/388 [==============================] - 0s 1ms/step - loss: 0.9525\n",
            "Epoch 43/1000\n",
            "388/388 [==============================] - 0s 1ms/step - loss: 0.9428\n",
            "Epoch 44/1000\n",
            "388/388 [==============================] - 0s 1ms/step - loss: 0.9330\n",
            "Epoch 45/1000\n",
            "388/388 [==============================] - 0s 1ms/step - loss: 0.9236\n",
            "Epoch 46/1000\n",
            "388/388 [==============================] - 0s 939us/step - loss: 0.9153\n",
            "Epoch 47/1000\n",
            "388/388 [==============================] - 0s 1ms/step - loss: 0.9089\n",
            "Epoch 48/1000\n",
            "388/388 [==============================] - 0s 1ms/step - loss: 0.9037\n",
            "Epoch 49/1000\n",
            "388/388 [==============================] - 0s 1ms/step - loss: 0.9007\n",
            "Epoch 50/1000\n",
            "388/388 [==============================] - 0s 1ms/step - loss: 0.8964\n",
            "Epoch 51/1000\n",
            "388/388 [==============================] - 0s 1ms/step - loss: 0.8874\n",
            "Following are the names generated after epoch 50:\n",
            "amatina.\n",
            "ashte.\n",
            "onndre.\n",
            "\n",
            "Epoch 52/1000\n",
            "388/388 [==============================] - 0s 1ms/step - loss: 0.8807\n",
            "Epoch 53/1000\n",
            "388/388 [==============================] - 0s 1ms/step - loss: 0.8711\n",
            "Epoch 54/1000\n",
            "388/388 [==============================] - 0s 1ms/step - loss: 0.8688\n",
            "Epoch 55/1000\n",
            "388/388 [==============================] - 0s 1ms/step - loss: 0.8615\n",
            "Epoch 56/1000\n",
            "388/388 [==============================] - 0s 1ms/step - loss: 0.8527\n",
            "Epoch 57/1000\n",
            "388/388 [==============================] - 0s 1ms/step - loss: 0.8466\n",
            "Epoch 58/1000\n",
            "388/388 [==============================] - 0s 1ms/step - loss: 0.8413\n",
            "Epoch 59/1000\n",
            "388/388 [==============================] - 0s 1ms/step - loss: 0.8366\n",
            "Epoch 60/1000\n",
            "388/388 [==============================] - 0s 1ms/step - loss: 0.8319\n",
            "Epoch 61/1000\n",
            "388/388 [==============================] - 0s 1ms/step - loss: 0.8318\n",
            "Epoch 62/1000\n",
            "388/388 [==============================] - 0s 1ms/step - loss: 0.8240\n",
            "Epoch 63/1000\n",
            "388/388 [==============================] - 0s 1ms/step - loss: 0.8244\n",
            "Epoch 64/1000\n",
            "388/388 [==============================] - 0s 1ms/step - loss: 0.8139\n",
            "Epoch 65/1000\n",
            "388/388 [==============================] - 0s 934us/step - loss: 0.8087\n",
            "Epoch 66/1000\n",
            "388/388 [==============================] - 0s 1ms/step - loss: 0.8066\n",
            "Epoch 67/1000\n",
            "388/388 [==============================] - 0s 1ms/step - loss: 0.7999\n",
            "Epoch 68/1000\n",
            "388/388 [==============================] - 0s 1ms/step - loss: 0.7972\n",
            "Epoch 69/1000\n",
            "388/388 [==============================] - 0s 965us/step - loss: 0.7883\n",
            "Epoch 70/1000\n",
            "388/388 [==============================] - 0s 990us/step - loss: 0.7880\n",
            "Epoch 71/1000\n",
            "388/388 [==============================] - 0s 1ms/step - loss: 0.7885\n",
            "Epoch 72/1000\n",
            "388/388 [==============================] - 0s 1ms/step - loss: 0.7797\n",
            "Epoch 73/1000\n",
            "388/388 [==============================] - 0s 1ms/step - loss: 0.7759\n",
            "Epoch 74/1000\n",
            "388/388 [==============================] - 0s 976us/step - loss: 0.7736\n",
            "Epoch 75/1000\n",
            "388/388 [==============================] - 0s 1ms/step - loss: 0.7659\n",
            "Epoch 76/1000\n",
            "388/388 [==============================] - 0s 1ms/step - loss: 0.7608\n",
            "Epoch 77/1000\n",
            "388/388 [==============================] - 0s 1ms/step - loss: 0.7542\n",
            "Epoch 78/1000\n",
            "388/388 [==============================] - 0s 1ms/step - loss: 0.7540\n",
            "Epoch 79/1000\n",
            "388/388 [==============================] - 0s 1ms/step - loss: 0.7495\n",
            "Epoch 80/1000\n",
            "388/388 [==============================] - 0s 1ms/step - loss: 0.7469\n",
            "Epoch 81/1000\n",
            "388/388 [==============================] - 0s 1ms/step - loss: 0.7440\n",
            "Epoch 82/1000\n",
            "388/388 [==============================] - 0s 1ms/step - loss: 0.7403\n",
            "Epoch 83/1000\n",
            "388/388 [==============================] - 0s 1ms/step - loss: 0.7380\n",
            "Epoch 84/1000\n",
            "388/388 [==============================] - 0s 1ms/step - loss: 0.7302\n",
            "Epoch 85/1000\n",
            "388/388 [==============================] - 0s 968us/step - loss: 0.7230\n",
            "Epoch 86/1000\n",
            "388/388 [==============================] - 0s 1ms/step - loss: 0.7208\n",
            "Epoch 87/1000\n",
            "388/388 [==============================] - 0s 1ms/step - loss: 0.7157\n",
            "Epoch 88/1000\n",
            "388/388 [==============================] - 0s 1ms/step - loss: 0.7125\n",
            "Epoch 89/1000\n",
            "388/388 [==============================] - 0s 1ms/step - loss: 0.7181\n",
            "Epoch 90/1000\n",
            "388/388 [==============================] - 0s 1ms/step - loss: 0.7099\n",
            "Epoch 91/1000\n",
            "388/388 [==============================] - 0s 1ms/step - loss: 0.7039\n",
            "Epoch 92/1000\n",
            "388/388 [==============================] - 0s 991us/step - loss: 0.7036\n",
            "Epoch 93/1000\n",
            "388/388 [==============================] - 0s 1ms/step - loss: 0.6987\n",
            "Epoch 94/1000\n",
            "388/388 [==============================] - 0s 1ms/step - loss: 0.6934\n",
            "Epoch 95/1000\n",
            "388/388 [==============================] - 0s 1ms/step - loss: 0.6949\n",
            "Epoch 96/1000\n",
            "388/388 [==============================] - 0s 1ms/step - loss: 0.6903\n",
            "Epoch 97/1000\n",
            "388/388 [==============================] - 0s 1ms/step - loss: 0.6861\n",
            "Epoch 98/1000\n",
            "388/388 [==============================] - 0s 1ms/step - loss: 0.6803\n",
            "Epoch 99/1000\n",
            "388/388 [==============================] - 0s 1ms/step - loss: 0.6765\n",
            "Epoch 100/1000\n",
            "388/388 [==============================] - 0s 962us/step - loss: 0.6742\n",
            "Epoch 101/1000\n",
            "388/388 [==============================] - 0s 1ms/step - loss: 0.6698\n",
            "Following are the names generated after epoch 100:\n",
            "jagyam.\n",
            "andee.\n",
            "ttanani.\n",
            "\n",
            "Epoch 102/1000\n",
            "388/388 [==============================] - 0s 1ms/step - loss: 0.6682\n",
            "Epoch 103/1000\n",
            "388/388 [==============================] - 0s 1ms/step - loss: 0.6643\n",
            "Epoch 104/1000\n",
            "388/388 [==============================] - 0s 1ms/step - loss: 0.6613\n",
            "Epoch 105/1000\n",
            "388/388 [==============================] - 0s 1ms/step - loss: 0.6607\n",
            "Epoch 106/1000\n",
            "388/388 [==============================] - 0s 1ms/step - loss: 0.6594\n",
            "Epoch 107/1000\n",
            "388/388 [==============================] - 0s 999us/step - loss: 0.6534\n",
            "Epoch 108/1000\n",
            "388/388 [==============================] - 0s 966us/step - loss: 0.6516\n",
            "Epoch 109/1000\n",
            "388/388 [==============================] - 0s 1ms/step - loss: 0.6473\n",
            "Epoch 110/1000\n",
            "388/388 [==============================] - 0s 1ms/step - loss: 0.6430\n",
            "Epoch 111/1000\n",
            "388/388 [==============================] - 0s 1ms/step - loss: 0.6399\n",
            "Epoch 112/1000\n",
            "388/388 [==============================] - 0s 1ms/step - loss: 0.6369\n",
            "Epoch 113/1000\n",
            "388/388 [==============================] - 0s 1ms/step - loss: 0.6321\n",
            "Epoch 114/1000\n",
            "388/388 [==============================] - 0s 1ms/step - loss: 0.6319\n",
            "Epoch 115/1000\n",
            "388/388 [==============================] - 0s 1ms/step - loss: 0.6282\n",
            "Epoch 116/1000\n",
            "388/388 [==============================] - 0s 1ms/step - loss: 0.6214\n",
            "Epoch 117/1000\n",
            "388/388 [==============================] - 0s 1ms/step - loss: 0.6186\n",
            "Epoch 118/1000\n",
            "388/388 [==============================] - 0s 1ms/step - loss: 0.6161\n",
            "Epoch 119/1000\n",
            "388/388 [==============================] - 0s 1ms/step - loss: 0.6171\n",
            "Epoch 120/1000\n",
            "388/388 [==============================] - 0s 1ms/step - loss: 0.6120\n",
            "Epoch 121/1000\n",
            "388/388 [==============================] - 0s 1ms/step - loss: 0.6128\n",
            "Epoch 122/1000\n",
            "388/388 [==============================] - 0s 1ms/step - loss: 0.6069\n",
            "Epoch 123/1000\n",
            "388/388 [==============================] - 0s 1ms/step - loss: 0.6047\n",
            "Epoch 124/1000\n",
            "388/388 [==============================] - 0s 977us/step - loss: 0.6020\n",
            "Epoch 125/1000\n",
            "388/388 [==============================] - 0s 973us/step - loss: 0.6027\n",
            "Epoch 126/1000\n",
            "388/388 [==============================] - 0s 962us/step - loss: 0.5979\n",
            "Epoch 127/1000\n",
            "388/388 [==============================] - 0s 1ms/step - loss: 0.6003\n",
            "Epoch 128/1000\n",
            "388/388 [==============================] - 0s 1ms/step - loss: 0.5955\n",
            "Epoch 129/1000\n",
            "388/388 [==============================] - 0s 1ms/step - loss: 0.5934\n",
            "Epoch 130/1000\n",
            "388/388 [==============================] - 0s 1ms/step - loss: 0.5860\n",
            "Epoch 131/1000\n",
            "388/388 [==============================] - 0s 998us/step - loss: 0.5836\n",
            "Epoch 132/1000\n",
            "388/388 [==============================] - 0s 1ms/step - loss: 0.5809\n",
            "Epoch 133/1000\n",
            "388/388 [==============================] - 0s 990us/step - loss: 0.5778\n",
            "Epoch 134/1000\n",
            "388/388 [==============================] - 0s 1ms/step - loss: 0.5781\n",
            "Epoch 135/1000\n",
            "388/388 [==============================] - 0s 1ms/step - loss: 0.5697\n",
            "Epoch 136/1000\n",
            "388/388 [==============================] - 0s 1ms/step - loss: 0.5670\n",
            "Epoch 137/1000\n",
            "388/388 [==============================] - 0s 1ms/step - loss: 0.5650\n",
            "Epoch 138/1000\n",
            "388/388 [==============================] - 0s 1ms/step - loss: 0.5631\n",
            "Epoch 139/1000\n",
            "388/388 [==============================] - 0s 1ms/step - loss: 0.5613\n",
            "Epoch 140/1000\n",
            "388/388 [==============================] - 0s 1ms/step - loss: 0.5558\n",
            "Epoch 141/1000\n",
            "388/388 [==============================] - 0s 1ms/step - loss: 0.5617\n",
            "Epoch 142/1000\n",
            "388/388 [==============================] - 0s 1ms/step - loss: 0.5575\n",
            "Epoch 143/1000\n",
            "388/388 [==============================] - 0s 956us/step - loss: 0.5521\n",
            "Epoch 144/1000\n",
            "388/388 [==============================] - 0s 1ms/step - loss: 0.5456\n",
            "Epoch 145/1000\n",
            "388/388 [==============================] - 0s 1ms/step - loss: 0.5450\n",
            "Epoch 146/1000\n",
            "388/388 [==============================] - 0s 944us/step - loss: 0.5435\n",
            "Epoch 147/1000\n",
            "388/388 [==============================] - 0s 1ms/step - loss: 0.5438\n",
            "Epoch 148/1000\n",
            "388/388 [==============================] - 0s 1ms/step - loss: 0.5409\n",
            "Epoch 149/1000\n",
            "388/388 [==============================] - 0s 1ms/step - loss: 0.5398\n",
            "Epoch 150/1000\n",
            "388/388 [==============================] - 0s 1ms/step - loss: 0.5393\n",
            "Epoch 151/1000\n",
            "388/388 [==============================] - 0s 972us/step - loss: 0.5341\n",
            "Following are the names generated after epoch 150:\n",
            "iri.\n",
            "jaliv.\n",
            "aalya.\n",
            "\n",
            "Epoch 152/1000\n",
            "388/388 [==============================] - 0s 1ms/step - loss: 0.5296\n",
            "Epoch 153/1000\n",
            "388/388 [==============================] - 0s 927us/step - loss: 0.5335\n",
            "Epoch 154/1000\n",
            "388/388 [==============================] - 0s 1ms/step - loss: 0.5312\n",
            "Epoch 155/1000\n",
            "388/388 [==============================] - 0s 1ms/step - loss: 0.5260\n",
            "Epoch 156/1000\n",
            "388/388 [==============================] - 0s 1ms/step - loss: 0.5232\n",
            "Epoch 157/1000\n",
            "388/388 [==============================] - 0s 1ms/step - loss: 0.5174\n",
            "Epoch 158/1000\n",
            "388/388 [==============================] - 0s 1ms/step - loss: 0.5126\n",
            "Epoch 159/1000\n",
            "388/388 [==============================] - 0s 1ms/step - loss: 0.5134\n",
            "Epoch 160/1000\n",
            "388/388 [==============================] - 0s 1ms/step - loss: 0.5120\n",
            "Epoch 161/1000\n",
            "388/388 [==============================] - 0s 956us/step - loss: 0.5086\n",
            "Epoch 162/1000\n",
            "388/388 [==============================] - 0s 1ms/step - loss: 0.5066\n",
            "Epoch 163/1000\n",
            "388/388 [==============================] - 0s 982us/step - loss: 0.5074\n",
            "Epoch 164/1000\n",
            "388/388 [==============================] - 0s 1ms/step - loss: 0.5056\n",
            "Epoch 165/1000\n",
            "388/388 [==============================] - 0s 1ms/step - loss: 0.5011\n",
            "Epoch 166/1000\n",
            "388/388 [==============================] - 0s 1ms/step - loss: 0.5008\n",
            "Epoch 167/1000\n",
            "388/388 [==============================] - 0s 1ms/step - loss: 0.4985\n",
            "Epoch 168/1000\n",
            "388/388 [==============================] - 0s 1ms/step - loss: 0.4983\n",
            "Epoch 169/1000\n",
            "388/388 [==============================] - 0s 987us/step - loss: 0.4968\n",
            "Epoch 170/1000\n",
            "388/388 [==============================] - 0s 1ms/step - loss: 0.4897\n",
            "Epoch 171/1000\n",
            "388/388 [==============================] - 0s 977us/step - loss: 0.4870\n",
            "Epoch 172/1000\n",
            "388/388 [==============================] - 0s 1ms/step - loss: 0.4886\n",
            "Epoch 173/1000\n",
            "388/388 [==============================] - 0s 982us/step - loss: 0.4824\n",
            "Epoch 174/1000\n",
            "388/388 [==============================] - 0s 998us/step - loss: 0.4818\n",
            "Epoch 175/1000\n",
            "388/388 [==============================] - 0s 1ms/step - loss: 0.4778\n",
            "Epoch 176/1000\n",
            "388/388 [==============================] - 0s 1ms/step - loss: 0.4739\n",
            "Epoch 177/1000\n",
            "388/388 [==============================] - 0s 1ms/step - loss: 0.4719\n",
            "Epoch 178/1000\n",
            "388/388 [==============================] - 0s 1ms/step - loss: 0.4705\n",
            "Epoch 179/1000\n",
            "388/388 [==============================] - 0s 1ms/step - loss: 0.4696\n",
            "Epoch 180/1000\n",
            "388/388 [==============================] - 0s 1ms/step - loss: 0.4679\n",
            "Epoch 181/1000\n",
            "388/388 [==============================] - 0s 971us/step - loss: 0.4659\n",
            "Epoch 182/1000\n",
            "388/388 [==============================] - 0s 1ms/step - loss: 0.4627\n",
            "Epoch 183/1000\n",
            "388/388 [==============================] - 0s 1ms/step - loss: 0.4649\n",
            "Epoch 184/1000\n",
            "388/388 [==============================] - 0s 975us/step - loss: 0.4634\n",
            "Epoch 185/1000\n",
            "388/388 [==============================] - 0s 1ms/step - loss: 0.4603\n",
            "Epoch 186/1000\n",
            "388/388 [==============================] - 0s 927us/step - loss: 0.4563\n",
            "Epoch 187/1000\n",
            "388/388 [==============================] - 0s 1ms/step - loss: 0.4557\n",
            "Epoch 188/1000\n",
            "388/388 [==============================] - 0s 1ms/step - loss: 0.4540\n",
            "Epoch 189/1000\n",
            "388/388 [==============================] - 0s 998us/step - loss: 0.4494\n",
            "Epoch 190/1000\n",
            "388/388 [==============================] - 0s 949us/step - loss: 0.4485\n",
            "Epoch 191/1000\n",
            "388/388 [==============================] - 0s 955us/step - loss: 0.4445\n",
            "Epoch 192/1000\n",
            "388/388 [==============================] - 0s 930us/step - loss: 0.4443\n",
            "Epoch 193/1000\n",
            "388/388 [==============================] - 0s 1ms/step - loss: 0.4463\n",
            "Epoch 194/1000\n",
            "388/388 [==============================] - 0s 945us/step - loss: 0.4436\n",
            "Epoch 195/1000\n",
            "388/388 [==============================] - 0s 1ms/step - loss: 0.4449\n",
            "Epoch 196/1000\n",
            "388/388 [==============================] - 0s 963us/step - loss: 0.4439\n",
            "Epoch 197/1000\n",
            "388/388 [==============================] - 0s 906us/step - loss: 0.4437\n",
            "Epoch 198/1000\n",
            "388/388 [==============================] - 0s 1ms/step - loss: 0.4365\n",
            "Epoch 199/1000\n",
            "388/388 [==============================] - 0s 958us/step - loss: 0.4330\n",
            "Epoch 200/1000\n",
            "388/388 [==============================] - 0s 1ms/step - loss: 0.4314\n",
            "Epoch 201/1000\n",
            "388/388 [==============================] - 0s 975us/step - loss: 0.4322\n",
            "Following are the names generated after epoch 200:\n",
            "lakshakrinath.\n",
            "angev.\n",
            "aganpra.\n",
            "\n",
            "Epoch 202/1000\n",
            "388/388 [==============================] - 0s 1ms/step - loss: 0.4325\n",
            "Epoch 203/1000\n",
            "388/388 [==============================] - 0s 1ms/step - loss: 0.4293\n",
            "Epoch 204/1000\n",
            "388/388 [==============================] - 0s 1ms/step - loss: 0.4251\n",
            "Epoch 205/1000\n",
            "388/388 [==============================] - 0s 989us/step - loss: 0.4260\n",
            "Epoch 206/1000\n",
            "388/388 [==============================] - 0s 1ms/step - loss: 0.4240\n",
            "Epoch 207/1000\n",
            "388/388 [==============================] - 0s 1ms/step - loss: 0.4217\n",
            "Epoch 208/1000\n",
            "388/388 [==============================] - 0s 1ms/step - loss: 0.4183\n",
            "Epoch 209/1000\n",
            "388/388 [==============================] - 0s 1ms/step - loss: 0.4209\n",
            "Epoch 210/1000\n",
            "388/388 [==============================] - 0s 1ms/step - loss: 0.4192\n",
            "Epoch 211/1000\n",
            "388/388 [==============================] - 0s 1ms/step - loss: 0.4209\n",
            "Epoch 212/1000\n",
            "388/388 [==============================] - 0s 1ms/step - loss: 0.4137\n",
            "Epoch 213/1000\n",
            "388/388 [==============================] - 0s 1ms/step - loss: 0.4129\n",
            "Epoch 214/1000\n",
            "388/388 [==============================] - 0s 1ms/step - loss: 0.4117\n",
            "Epoch 215/1000\n",
            "388/388 [==============================] - 0s 1ms/step - loss: 0.4101\n",
            "Epoch 216/1000\n",
            "388/388 [==============================] - 0s 1ms/step - loss: 0.4105\n",
            "Epoch 217/1000\n",
            "388/388 [==============================] - 0s 1ms/step - loss: 0.4099\n",
            "Epoch 218/1000\n",
            "388/388 [==============================] - 0s 1ms/step - loss: 0.4081\n",
            "Epoch 219/1000\n",
            "388/388 [==============================] - 0s 1ms/step - loss: 0.4044\n",
            "Epoch 220/1000\n",
            "388/388 [==============================] - 0s 1ms/step - loss: 0.4022\n",
            "Epoch 221/1000\n",
            "388/388 [==============================] - 0s 1ms/step - loss: 0.4009\n",
            "Epoch 222/1000\n",
            "388/388 [==============================] - 0s 1ms/step - loss: 0.4019\n",
            "Epoch 223/1000\n",
            "388/388 [==============================] - 0s 1ms/step - loss: 0.3993\n",
            "Epoch 224/1000\n",
            "388/388 [==============================] - 0s 1ms/step - loss: 0.3955\n",
            "Epoch 225/1000\n",
            "388/388 [==============================] - 0s 982us/step - loss: 0.3936\n",
            "Epoch 226/1000\n",
            "388/388 [==============================] - 0s 1ms/step - loss: 0.3922\n",
            "Epoch 227/1000\n",
            "388/388 [==============================] - 0s 1ms/step - loss: 0.3911\n",
            "Epoch 228/1000\n",
            "388/388 [==============================] - 0s 1ms/step - loss: 0.3891\n",
            "Epoch 229/1000\n",
            "388/388 [==============================] - 0s 944us/step - loss: 0.3870\n",
            "Epoch 230/1000\n",
            "388/388 [==============================] - 0s 1ms/step - loss: 0.3853\n",
            "Epoch 231/1000\n",
            "388/388 [==============================] - 0s 1ms/step - loss: 0.3839\n",
            "Epoch 232/1000\n",
            "388/388 [==============================] - 0s 1ms/step - loss: 0.3812\n",
            "Epoch 233/1000\n",
            "388/388 [==============================] - 0s 1ms/step - loss: 0.3810\n",
            "Epoch 234/1000\n",
            "388/388 [==============================] - 0s 1ms/step - loss: 0.3798\n",
            "Epoch 235/1000\n",
            "388/388 [==============================] - 0s 996us/step - loss: 0.3809\n",
            "Epoch 236/1000\n",
            "388/388 [==============================] - 0s 988us/step - loss: 0.3814\n",
            "Epoch 237/1000\n",
            "388/388 [==============================] - 0s 1ms/step - loss: 0.3845\n",
            "Epoch 238/1000\n",
            "388/388 [==============================] - 0s 991us/step - loss: 0.3825\n",
            "Epoch 239/1000\n",
            "388/388 [==============================] - 0s 1ms/step - loss: 0.3821\n"
          ],
          "name": "stdout"
        }
      ]
    },
    {
      "cell_type": "markdown",
      "metadata": {
        "id": "dJ37NGQdU9EJ",
        "colab_type": "text"
      },
      "source": [
        "We see that due to Early Stopping the training stopped at *230th*  Epoch; \n",
        "\n"
      ]
    },
    {
      "cell_type": "markdown",
      "metadata": {
        "id": "udhPRqyUBv35",
        "colab_type": "text"
      },
      "source": [
        "# Results"
      ]
    },
    {
      "cell_type": "markdown",
      "metadata": {
        "id": "WVtP6unYnVhX",
        "colab_type": "text"
      },
      "source": [
        ">1. We now use the final trained model to generate random 30 new names."
      ]
    },
    {
      "cell_type": "code",
      "metadata": {
        "id": "yyCSi_3MU9EM",
        "colab_type": "code",
        "colab": {
          "base_uri": "https://localhost:8080/",
          "height": 550
        },
        "outputId": "9bf9783f-bde6-4586-ffdc-454fd3a520cd"
      },
      "source": [
        "for i in range(30):\n",
        "    create_name(model)"
      ],
      "execution_count": 21,
      "outputs": [
        {
          "output_type": "stream",
          "text": [
            "aaviri.\n",
            "adan.\n",
            "aahireya.\n",
            "agaa.\n",
            "aaksh.\n",
            "adriyatiti.\n",
            "ana.\n",
            "laknata.\n",
            "adrishorika.\n",
            "adayya.\n",
            "nabhay.\n",
            "lakshmareer.\n",
            "aarik.\n",
            "aanekya.\n",
            "aaniya.\n",
            "aksh.\n",
            "midul.\n",
            "alita.\n",
            "ujagi.\n",
            "aadhira.\n",
            "adrikaya.\n",
            "elatoma.\n",
            "ukari.\n",
            "aitil.\n",
            "alichanan.\n",
            "aavula.\n",
            "raanitya.\n",
            "aani.\n",
            "aadhri.\n",
            "adri.\n"
          ],
          "name": "stdout"
        }
      ]
    },
    {
      "cell_type": "markdown",
      "metadata": {
        "id": "CFNNClwEU9EV",
        "colab_type": "text"
      },
      "source": [
        "Out Of the 30 names generated, 28 were unique names; with 2 names getting repeated. Hence we conclude that the model, performs reasonably well in generating new names.\n"
      ]
    },
    {
      "cell_type": "markdown",
      "metadata": {
        "id": "j9tnJS-Mn-25",
        "colab_type": "text"
      },
      "source": [
        ">2. We use the final trained model to generate 10 new names starting with Alphabet **'H'**."
      ]
    },
    {
      "cell_type": "code",
      "metadata": {
        "id": "tbNf2x8FnNEF",
        "colab_type": "code",
        "colab": {
          "base_uri": "https://localhost:8080/",
          "height": 195
        },
        "outputId": "025e9628-1de7-4ec8-ba5b-7994e1033406"
      },
      "source": [
        "for i in range(10):\n",
        "  create_name_starting_with_character(model,'h') "
      ],
      "execution_count": 22,
      "outputs": [
        {
          "output_type": "stream",
          "text": [
            "hnraar.\n",
            "hrishikra.\n",
            "hrina.\n",
            "hrija.\n",
            "hnrana.\n",
            "hrishar.\n",
            "hrina.\n",
            "hresh.\n",
            "hripaya.\n",
            "hirattara.\n"
          ],
          "name": "stdout"
        }
      ]
    },
    {
      "cell_type": "markdown",
      "metadata": {
        "id": "jtA1DbPsDvOm",
        "colab_type": "text"
      },
      "source": [
        "We also notice during model training that as the epoch increases, model improves on task of name generation and generates more and more reliastic names."
      ]
    }
  ]
}